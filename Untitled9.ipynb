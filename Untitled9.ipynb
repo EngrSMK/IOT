{
  "cells": [
    {
      "cell_type": "code",
      "execution_count": null,
      "metadata": {
        "colab": {
          "base_uri": "https://localhost:8080/"
        },
        "id": "hKDqj8ArEiGA",
        "outputId": "8d18cb13-8d52-4dc7-85e4-6863efbe9510"
      },
      "outputs": [
        {
          "output_type": "stream",
          "name": "stdout",
          "text": [
            "ALI\n"
          ]
        }
      ],
      "source": [
        "name=\"ALI\"\n",
        "print(name)"
      ]
    },
    {
      "cell_type": "code",
      "execution_count": null,
      "metadata": {
        "colab": {
          "base_uri": "https://localhost:8080/"
        },
        "id": "dU-dGmG_E87i",
        "outputId": "0dc6379c-a689-4b66-9b8e-43dc3273c6e8"
      },
      "outputs": [
        {
          "output_type": "stream",
          "name": "stdout",
          "text": [
            "20\n"
          ]
        }
      ],
      "source": [
        "age=20\n",
        "print(age)"
      ]
    },
    {
      "cell_type": "code",
      "execution_count": null,
      "metadata": {
        "colab": {
          "base_uri": "https://localhost:8080/"
        },
        "id": "Is5oBV_oGe93",
        "outputId": "19af14e4-5384-4a17-8442-fa469ad6da8d"
      },
      "outputs": [
        {
          "output_type": "stream",
          "name": "stdout",
          "text": [
            "3.14159263589732\n"
          ]
        }
      ],
      "source": [
        "pi=3.14159263589732\n",
        "print(pi)"
      ]
    },
    {
      "cell_type": "code",
      "execution_count": null,
      "metadata": {
        "colab": {
          "base_uri": "https://localhost:8080/"
        },
        "id": "0YZDeLa0GpYf",
        "outputId": "55919b4e-a21d-4946-b64d-8623cac00fda"
      },
      "outputs": [
        {
          "output_type": "stream",
          "name": "stdout",
          "text": [
            "True\n"
          ]
        }
      ],
      "source": [
        "condition=True\n",
        "print(condition)"
      ]
    },
    {
      "cell_type": "code",
      "execution_count": null,
      "metadata": {
        "colab": {
          "base_uri": "https://localhost:8080/"
        },
        "id": "9ANIDMdPG8Rw",
        "outputId": "7534060a-59da-48a5-d8db-0b8f021d6a43"
      },
      "outputs": [
        {
          "output_type": "execute_result",
          "data": {
            "text/plain": [
              "4"
            ]
          },
          "metadata": {},
          "execution_count": 7
        }
      ],
      "source": [
        "2+2"
      ]
    },
    {
      "cell_type": "code",
      "execution_count": null,
      "metadata": {
        "colab": {
          "base_uri": "https://localhost:8080/"
        },
        "id": "qkfq3uXXHOdH",
        "outputId": "d5b0cba3-addb-4f9f-e37a-50b22bfda1ba"
      },
      "outputs": [
        {
          "output_type": "execute_result",
          "data": {
            "text/plain": [
              "0"
            ]
          },
          "metadata": {},
          "execution_count": 8
        }
      ],
      "source": [
        "2-2"
      ]
    },
    {
      "cell_type": "code",
      "execution_count": null,
      "metadata": {
        "colab": {
          "base_uri": "https://localhost:8080/"
        },
        "id": "xkPZ7a3cHRnn",
        "outputId": "60d42fa7-03d3-4562-c560-cee42262b50d"
      },
      "outputs": [
        {
          "output_type": "execute_result",
          "data": {
            "text/plain": [
              "4"
            ]
          },
          "metadata": {},
          "execution_count": 9
        }
      ],
      "source": [
        "2*2"
      ]
    },
    {
      "cell_type": "code",
      "execution_count": null,
      "metadata": {
        "colab": {
          "base_uri": "https://localhost:8080/"
        },
        "id": "VqXK9RSqHTBP",
        "outputId": "10582903-5466-465c-8527-aca13e1df546"
      },
      "outputs": [
        {
          "output_type": "execute_result",
          "data": {
            "text/plain": [
              "1.0"
            ]
          },
          "metadata": {},
          "execution_count": 10
        }
      ],
      "source": [
        "2/2"
      ]
    },
    {
      "cell_type": "code",
      "execution_count": null,
      "metadata": {
        "colab": {
          "base_uri": "https://localhost:8080/"
        },
        "id": "2HE9SJCvHUZ_",
        "outputId": "9b8e03cb-6cf8-485c-b6d4-aabea35364c3"
      },
      "outputs": [
        {
          "output_type": "execute_result",
          "data": {
            "text/plain": [
              "9"
            ]
          },
          "metadata": {},
          "execution_count": 11
        }
      ],
      "source": [
        "27//3"
      ]
    },
    {
      "cell_type": "code",
      "execution_count": null,
      "metadata": {
        "colab": {
          "base_uri": "https://localhost:8080/"
        },
        "id": "R9zRp-W2Hm9W",
        "outputId": "d400364e-209c-42f2-ce51-9a62a4489941"
      },
      "outputs": [
        {
          "output_type": "execute_result",
          "data": {
            "text/plain": [
              "3"
            ]
          },
          "metadata": {},
          "execution_count": 12
        }
      ],
      "source": [
        "17//5"
      ]
    },
    {
      "cell_type": "code",
      "execution_count": null,
      "metadata": {
        "colab": {
          "base_uri": "https://localhost:8080/"
        },
        "id": "iyRrxbHKHr7O",
        "outputId": "e2d91c7a-5513-4c62-d81d-e4ec54d19514"
      },
      "outputs": [
        {
          "output_type": "execute_result",
          "data": {
            "text/plain": [
              "3.4"
            ]
          },
          "metadata": {},
          "execution_count": 13
        }
      ],
      "source": [
        "17/5"
      ]
    },
    {
      "cell_type": "code",
      "execution_count": null,
      "metadata": {
        "colab": {
          "base_uri": "https://localhost:8080/"
        },
        "id": "_Zn9HKTJHuz3",
        "outputId": "0edec189-19cd-4682-88a1-775e10216819"
      },
      "outputs": [
        {
          "output_type": "execute_result",
          "data": {
            "text/plain": [
              "0"
            ]
          },
          "metadata": {},
          "execution_count": 14
        }
      ],
      "source": [
        "15%3"
      ]
    },
    {
      "cell_type": "code",
      "execution_count": null,
      "metadata": {
        "colab": {
          "base_uri": "https://localhost:8080/"
        },
        "id": "Lo4jLHW5H2nW",
        "outputId": "806bd827-86c7-43d5-faa9-8fb839cfcc2a"
      },
      "outputs": [
        {
          "output_type": "execute_result",
          "data": {
            "text/plain": [
              "2"
            ]
          },
          "metadata": {},
          "execution_count": 15
        }
      ],
      "source": [
        "17%3"
      ]
    },
    {
      "cell_type": "code",
      "execution_count": null,
      "metadata": {
        "colab": {
          "base_uri": "https://localhost:8080/"
        },
        "id": "KE3KvaO0ITtH",
        "outputId": "36ed53d7-755f-48d7-8889-fd8e26c833e6"
      },
      "outputs": [
        {
          "output_type": "execute_result",
          "data": {
            "text/plain": [
              "2"
            ]
          },
          "metadata": {},
          "execution_count": 16
        }
      ],
      "source": [
        "17%5"
      ]
    },
    {
      "cell_type": "code",
      "execution_count": null,
      "metadata": {
        "colab": {
          "base_uri": "https://localhost:8080/"
        },
        "id": "IP7PqKY_IY4H",
        "outputId": "6b95a57c-8d81-4e3b-99ac-97e8ba12d4a0"
      },
      "outputs": [
        {
          "output_type": "execute_result",
          "data": {
            "text/plain": [
              "1"
            ]
          },
          "metadata": {},
          "execution_count": 17
        }
      ],
      "source": [
        "19%3"
      ]
    },
    {
      "cell_type": "code",
      "execution_count": null,
      "metadata": {
        "colab": {
          "base_uri": "https://localhost:8080/"
        },
        "id": "JN1t5QVLInYt",
        "outputId": "3f575c88-9b62-403b-a0bf-26ee3bbe702f"
      },
      "outputs": [
        {
          "output_type": "execute_result",
          "data": {
            "text/plain": [
              "21"
            ]
          },
          "metadata": {},
          "execution_count": 18
        }
      ],
      "source": [
        "age=20\n",
        "age=age+1\n",
        "age"
      ]
    },
    {
      "cell_type": "code",
      "execution_count": null,
      "metadata": {
        "colab": {
          "base_uri": "https://localhost:8080/"
        },
        "id": "GQMswIbmKert",
        "outputId": "6172a84e-fa7b-4c3d-8d3f-d3b7d9ad1690"
      },
      "outputs": [
        {
          "output_type": "execute_result",
          "data": {
            "text/plain": [
              "22"
            ]
          },
          "metadata": {},
          "execution_count": 19
        }
      ],
      "source": [
        "age += 1\n",
        "age"
      ]
    },
    {
      "cell_type": "code",
      "execution_count": null,
      "metadata": {
        "colab": {
          "base_uri": "https://localhost:8080/"
        },
        "id": "GVz19SEgL-Y9",
        "outputId": "2fc34d7b-bad3-4af6-fb11-cb6605687561"
      },
      "outputs": [
        {
          "output_type": "execute_result",
          "data": {
            "text/plain": [
              "21"
            ]
          },
          "metadata": {},
          "execution_count": 20
        }
      ],
      "source": [
        "age -= 1\n",
        "age"
      ]
    },
    {
      "cell_type": "code",
      "execution_count": null,
      "metadata": {
        "colab": {
          "base_uri": "https://localhost:8080/"
        },
        "id": "jUaL4EFdMLBk",
        "outputId": "ce510c25-ddeb-4ad1-d133-cd8c0368cc22"
      },
      "outputs": [
        {
          "output_type": "execute_result",
          "data": {
            "text/plain": [
              "18"
            ]
          },
          "metadata": {},
          "execution_count": 21
        }
      ],
      "source": [
        "age -= 3\n",
        "age"
      ]
    },
    {
      "cell_type": "code",
      "execution_count": null,
      "metadata": {
        "colab": {
          "base_uri": "https://localhost:8080/"
        },
        "id": "zS6Wbi0ZMTdU",
        "outputId": "2e6ee42b-913e-4f7d-b4d9-cbf884b87166"
      },
      "outputs": [
        {
          "output_type": "execute_result",
          "data": {
            "text/plain": [
              "13"
            ]
          },
          "metadata": {},
          "execution_count": 22
        }
      ],
      "source": [
        "total_cost = 1 + 3 * 4\n",
        "total_cost"
      ]
    },
    {
      "cell_type": "code",
      "execution_count": null,
      "metadata": {
        "colab": {
          "base_uri": "https://localhost:8080/"
        },
        "id": "5gSp9BlINRcr",
        "outputId": "6c5b2f16-12c7-4ce6-f19c-036f55be81b9"
      },
      "outputs": [
        {
          "output_type": "execute_result",
          "data": {
            "text/plain": [
              "34"
            ]
          },
          "metadata": {},
          "execution_count": 23
        }
      ],
      "source": [
        "(2 * 4) * 4 + 2\n"
      ]
    },
    {
      "cell_type": "code",
      "execution_count": null,
      "metadata": {
        "colab": {
          "base_uri": "https://localhost:8080/",
          "height": 35
        },
        "id": "jppah0deNiQb",
        "outputId": "7513f89e-458a-438a-9934-833f2f2a2808"
      },
      "outputs": [
        {
          "output_type": "execute_result",
          "data": {
            "text/plain": [
              "'Muhammad Ali '"
            ],
            "application/vnd.google.colaboratory.intrinsic+json": {
              "type": "string"
            }
          },
          "metadata": {},
          "execution_count": 24
        }
      ],
      "source": [
        "first_name = \"Muhammad\"\n",
        "last_name = \"Ali \"\n",
        "name = first_name + \" \" + last_name\n",
        "name"
      ]
    },
    {
      "cell_type": "code",
      "execution_count": null,
      "metadata": {
        "colab": {
          "base_uri": "https://localhost:8080/",
          "height": 35
        },
        "id": "UATJ1YZ3Oc4D",
        "outputId": "84984521-baad-4f76-87e8-725d9cdbe93d"
      },
      "outputs": [
        {
          "output_type": "execute_result",
          "data": {
            "text/plain": [
              "'Muhammad Ali Muhammad Ali Muhammad Ali Muhammad Ali '"
            ],
            "application/vnd.google.colaboratory.intrinsic+json": {
              "type": "string"
            }
          },
          "metadata": {},
          "execution_count": 25
        }
      ],
      "source": [
        "name * 4"
      ]
    },
    {
      "cell_type": "code",
      "execution_count": null,
      "metadata": {
        "colab": {
          "base_uri": "https://localhost:8080/",
          "height": 35
        },
        "id": "R4djPLeeOuXD",
        "outputId": "4592d6f0-ddb4-4497-b8c2-e4c37848dff3"
      },
      "outputs": [
        {
          "output_type": "execute_result",
          "data": {
            "text/plain": [
              "'ALI '"
            ],
            "application/vnd.google.colaboratory.intrinsic+json": {
              "type": "string"
            }
          },
          "metadata": {},
          "execution_count": 26
        }
      ],
      "source": [
        "name = \"ALI \"\n",
        "name"
      ]
    },
    {
      "cell_type": "code",
      "execution_count": null,
      "metadata": {
        "colab": {
          "base_uri": "https://localhost:8080/",
          "height": 35
        },
        "id": "4Yf_DYGgQWQK",
        "outputId": "2d26edd3-998b-4414-b14c-c03baff07579"
      },
      "outputs": [
        {
          "output_type": "execute_result",
          "data": {
            "text/plain": [
              "'ALI ALI ALI ALI \\x08'"
            ],
            "application/vnd.google.colaboratory.intrinsic+json": {
              "type": "string"
            }
          },
          "metadata": {},
          "execution_count": 27
        }
      ],
      "source": [
        "name * 4 + \"\\b\""
      ]
    },
    {
      "cell_type": "code",
      "execution_count": null,
      "metadata": {
        "colab": {
          "base_uri": "https://localhost:8080/"
        },
        "id": "1PxemfAcQYhj",
        "outputId": "8e895c85-129b-4a45-e47f-f92735b15804"
      },
      "outputs": [
        {
          "output_type": "execute_result",
          "data": {
            "text/plain": [
              "True"
            ]
          },
          "metadata": {},
          "execution_count": 28
        }
      ],
      "source": [
        "2 == 2"
      ]
    },
    {
      "cell_type": "code",
      "execution_count": null,
      "metadata": {
        "colab": {
          "base_uri": "https://localhost:8080/"
        },
        "id": "Vj4mdUoASNqp",
        "outputId": "e8d90325-cd77-4b56-99d2-63ca62a6e41d"
      },
      "outputs": [
        {
          "output_type": "execute_result",
          "data": {
            "text/plain": [
              "True"
            ]
          },
          "metadata": {},
          "execution_count": 29
        }
      ],
      "source": [
        "\"Apple\" == \"Apple\""
      ]
    },
    {
      "cell_type": "code",
      "execution_count": null,
      "metadata": {
        "colab": {
          "base_uri": "https://localhost:8080/"
        },
        "id": "ee3FERu4SYNR",
        "outputId": "af451e8e-76f6-4984-9eb7-6643c5f4b577"
      },
      "outputs": [
        {
          "output_type": "execute_result",
          "data": {
            "text/plain": [
              "False"
            ]
          },
          "metadata": {},
          "execution_count": 30
        }
      ],
      "source": [
        "2 == 3"
      ]
    },
    {
      "cell_type": "code",
      "execution_count": null,
      "metadata": {
        "colab": {
          "base_uri": "https://localhost:8080/"
        },
        "id": "mt6MkJpESl2d",
        "outputId": "0b086ac2-9156-419b-c951-378af1e32a90"
      },
      "outputs": [
        {
          "output_type": "stream",
          "name": "stdout",
          "text": [
            "OK\n"
          ]
        }
      ],
      "source": [
        "age = 20\n",
        "if age == 20:\n",
        "  print(\"OK\")\n",
        "else:\n",
        "  print(\"Not OK\")"
      ]
    },
    {
      "cell_type": "code",
      "execution_count": null,
      "metadata": {
        "colab": {
          "base_uri": "https://localhost:8080/"
        },
        "id": "XnOj8WStTg4D",
        "outputId": "d9df31fc-0caa-43f2-e1dd-6ff7d59d142d"
      },
      "outputs": [
        {
          "output_type": "stream",
          "name": "stdout",
          "text": [
            "Not OK\n"
          ]
        }
      ],
      "source": [
        "age = 35\n",
        "if age == 30:\n",
        "  print(\"OK\")\n",
        "elif age == 31:\n",
        "  print(\"OK\")\n",
        "elif age == 32:\n",
        "  print(\"OK\")\n",
        "elif age == 33:\n",
        "  print(\"1 OK\")\n",
        "else:\n",
        "  print(\"Not OK\")"
      ]
    },
    {
      "cell_type": "code",
      "execution_count": null,
      "metadata": {
        "colab": {
          "base_uri": "https://localhost:8080/"
        },
        "id": "JmiyyeCxV0sv",
        "outputId": "73dbb8f6-14d0-4722-c5e8-0bcc18c30987"
      },
      "outputs": [
        {
          "output_type": "stream",
          "name": "stdout",
          "text": [
            "OK\n"
          ]
        }
      ],
      "source": [
        "age = 20\n",
        "if age == 20:\n",
        "  print(\"OK\")\n",
        "else:\n",
        "  print(\"NOT OK\")"
      ]
    },
    {
      "cell_type": "code",
      "execution_count": null,
      "metadata": {
        "colab": {
          "base_uri": "https://localhost:8080/"
        },
        "id": "Oo39L_HUJvuO",
        "outputId": "0f9b71ce-9419-4b66-d12d-e428c7bdad80"
      },
      "outputs": [
        {
          "output_type": "stream",
          "name": "stdout",
          "text": [
            "OK\n",
            "NOT OK\n"
          ]
        }
      ],
      "source": [
        "age = 18\n",
        "nationality = \"Pakistani\"\n",
        "\n",
        "if age == 18:\n",
        "  if nationality == \"Pakistani\":\n",
        "    print(\"OK\")\n",
        "  if age == 18:\n",
        "    print(\"NOT OK\")\n",
        "\n",
        "else:\n",
        "  print(\"ABCD\")\n",
        "\n"
      ]
    },
    {
      "cell_type": "code",
      "execution_count": null,
      "metadata": {
        "colab": {
          "base_uri": "https://localhost:8080/"
        },
        "id": "rVK1sXfUPLPV",
        "outputId": "ed1d2700-6afd-40e4-a5b0-0e86f96749b0"
      },
      "outputs": [
        {
          "output_type": "execute_result",
          "data": {
            "text/plain": [
              "1"
            ]
          },
          "metadata": {},
          "execution_count": 35
        }
      ],
      "source": [
        "1 and 1\n"
      ]
    },
    {
      "cell_type": "code",
      "execution_count": null,
      "metadata": {
        "colab": {
          "base_uri": "https://localhost:8080/"
        },
        "id": "MV0p0MDRReu6",
        "outputId": "d7c38096-e4bf-4a33-c734-8fc48d6ce5e6"
      },
      "outputs": [
        {
          "output_type": "execute_result",
          "data": {
            "text/plain": [
              "0"
            ]
          },
          "metadata": {},
          "execution_count": 36
        }
      ],
      "source": [
        "1 and 0"
      ]
    },
    {
      "cell_type": "code",
      "execution_count": null,
      "metadata": {
        "colab": {
          "base_uri": "https://localhost:8080/"
        },
        "id": "ahXUlBPwRv3S",
        "outputId": "08435457-7236-4695-cca8-91079e321ca2"
      },
      "outputs": [
        {
          "output_type": "execute_result",
          "data": {
            "text/plain": [
              "0"
            ]
          },
          "metadata": {},
          "execution_count": 37
        }
      ],
      "source": [
        "0 and 1"
      ]
    },
    {
      "cell_type": "code",
      "execution_count": null,
      "metadata": {
        "colab": {
          "base_uri": "https://localhost:8080/"
        },
        "id": "rBRZ4m1dRyOb",
        "outputId": "1cb46dad-737e-4781-eceb-66f69bac671d"
      },
      "outputs": [
        {
          "output_type": "execute_result",
          "data": {
            "text/plain": [
              "0"
            ]
          },
          "metadata": {},
          "execution_count": 38
        }
      ],
      "source": [
        "0 and 0"
      ]
    },
    {
      "cell_type": "code",
      "execution_count": null,
      "metadata": {
        "colab": {
          "base_uri": "https://localhost:8080/"
        },
        "id": "t8dYXfWYR1DC",
        "outputId": "964265af-872b-4e85-9374-87032c6c2c88"
      },
      "outputs": [
        {
          "output_type": "execute_result",
          "data": {
            "text/plain": [
              "0"
            ]
          },
          "metadata": {},
          "execution_count": 39
        }
      ],
      "source": [
        "1 and 1 and 0"
      ]
    },
    {
      "cell_type": "code",
      "execution_count": null,
      "metadata": {
        "colab": {
          "base_uri": "https://localhost:8080/"
        },
        "id": "XPdkzC9jR8V5",
        "outputId": "e9c8b537-95a7-465e-e024-d2b8de25e6e6"
      },
      "outputs": [
        {
          "output_type": "execute_result",
          "data": {
            "text/plain": [
              "True"
            ]
          },
          "metadata": {},
          "execution_count": 40
        }
      ],
      "source": [
        "True and True"
      ]
    },
    {
      "cell_type": "code",
      "execution_count": null,
      "metadata": {
        "colab": {
          "base_uri": "https://localhost:8080/"
        },
        "id": "IDfVJJmZSeHy",
        "outputId": "9350e81a-87b3-4739-8cc8-c049cb12e249"
      },
      "outputs": [
        {
          "output_type": "execute_result",
          "data": {
            "text/plain": [
              "False"
            ]
          },
          "metadata": {},
          "execution_count": 41
        }
      ],
      "source": [
        "True and False"
      ]
    },
    {
      "cell_type": "code",
      "execution_count": null,
      "metadata": {
        "colab": {
          "base_uri": "https://localhost:8080/"
        },
        "id": "MVjx2FhSSg3i",
        "outputId": "ac6af80d-77f8-432c-a2dc-3b7dd00d2077"
      },
      "outputs": [
        {
          "output_type": "execute_result",
          "data": {
            "text/plain": [
              "False"
            ]
          },
          "metadata": {},
          "execution_count": 42
        }
      ],
      "source": [
        "False and False"
      ]
    },
    {
      "cell_type": "code",
      "execution_count": null,
      "metadata": {
        "colab": {
          "base_uri": "https://localhost:8080/",
          "height": 35
        },
        "id": "nJgjqBJiSigq",
        "outputId": "f2aefef0-6179-42f2-c2d4-57ba41e644df"
      },
      "outputs": [
        {
          "output_type": "execute_result",
          "data": {
            "text/plain": [
              "'b'"
            ],
            "application/vnd.google.colaboratory.intrinsic+json": {
              "type": "string"
            }
          },
          "metadata": {},
          "execution_count": 43
        }
      ],
      "source": [
        "'a' and 'b'"
      ]
    },
    {
      "cell_type": "code",
      "execution_count": null,
      "metadata": {
        "colab": {
          "base_uri": "https://localhost:8080/",
          "height": 35
        },
        "id": "gh3DGHRjSoRn",
        "outputId": "a3cd5d91-2852-46db-f087-9ba6f3259ca4"
      },
      "outputs": [
        {
          "output_type": "execute_result",
          "data": {
            "text/plain": [
              "'d'"
            ],
            "application/vnd.google.colaboratory.intrinsic+json": {
              "type": "string"
            }
          },
          "metadata": {},
          "execution_count": 44
        }
      ],
      "source": [
        "'c' and 'd'"
      ]
    },
    {
      "cell_type": "code",
      "execution_count": null,
      "metadata": {
        "colab": {
          "base_uri": "https://localhost:8080/",
          "height": 35
        },
        "id": "3YUiyQEkS7MC",
        "outputId": "b0c28b20-662f-4fd8-c3e9-7088f0774f6a"
      },
      "outputs": [
        {
          "output_type": "execute_result",
          "data": {
            "text/plain": [
              "'a'"
            ],
            "application/vnd.google.colaboratory.intrinsic+json": {
              "type": "string"
            }
          },
          "metadata": {},
          "execution_count": 45
        }
      ],
      "source": [
        "'a' and 'a'"
      ]
    },
    {
      "cell_type": "code",
      "execution_count": null,
      "metadata": {
        "colab": {
          "base_uri": "https://localhost:8080/"
        },
        "id": "gGew5PYqS-ia",
        "outputId": "919b004e-ac87-4dfe-dcff-68cce6e22864"
      },
      "outputs": [
        {
          "output_type": "execute_result",
          "data": {
            "text/plain": [
              "1"
            ]
          },
          "metadata": {},
          "execution_count": 46
        }
      ],
      "source": [
        "1 or 1"
      ]
    },
    {
      "cell_type": "code",
      "execution_count": null,
      "metadata": {
        "colab": {
          "base_uri": "https://localhost:8080/"
        },
        "id": "YuB_LTS5TH2h",
        "outputId": "e2fea1a0-0791-42ae-bbe3-8d6acebaee11"
      },
      "outputs": [
        {
          "output_type": "execute_result",
          "data": {
            "text/plain": [
              "1"
            ]
          },
          "metadata": {},
          "execution_count": 47
        }
      ],
      "source": [
        "1 or 0"
      ]
    },
    {
      "cell_type": "code",
      "execution_count": null,
      "metadata": {
        "colab": {
          "base_uri": "https://localhost:8080/"
        },
        "id": "W_qgEeOnTJFJ",
        "outputId": "665ece52-fdde-489c-ab15-90fa3aba078d"
      },
      "outputs": [
        {
          "output_type": "execute_result",
          "data": {
            "text/plain": [
              "0"
            ]
          },
          "metadata": {},
          "execution_count": 48
        }
      ],
      "source": [
        "0 or 0"
      ]
    },
    {
      "cell_type": "code",
      "execution_count": null,
      "metadata": {
        "colab": {
          "base_uri": "https://localhost:8080/"
        },
        "id": "EWUmU63PTLLZ",
        "outputId": "1ccd28df-78ef-4b3a-88ed-cebaf44a160f"
      },
      "outputs": [
        {
          "output_type": "execute_result",
          "data": {
            "text/plain": [
              "1"
            ]
          },
          "metadata": {},
          "execution_count": 49
        }
      ],
      "source": [
        "0 or 1"
      ]
    },
    {
      "cell_type": "code",
      "execution_count": null,
      "metadata": {
        "colab": {
          "base_uri": "https://localhost:8080/"
        },
        "id": "K5lRoadZTPbh",
        "outputId": "b67fb885-fcc1-4bca-99be-c8964032f334"
      },
      "outputs": [
        {
          "output_type": "execute_result",
          "data": {
            "text/plain": [
              "0"
            ]
          },
          "metadata": {},
          "execution_count": 50
        }
      ],
      "source": [
        "1 and 0 or 0 and 1"
      ]
    },
    {
      "cell_type": "code",
      "execution_count": null,
      "metadata": {
        "colab": {
          "base_uri": "https://localhost:8080/"
        },
        "id": "ftBRGhbRTnRx",
        "outputId": "ecd65dbc-ebfc-4699-ecf1-634cdcc1c2e1"
      },
      "outputs": [
        {
          "output_type": "execute_result",
          "data": {
            "text/plain": [
              "1"
            ]
          },
          "metadata": {},
          "execution_count": 51
        }
      ],
      "source": [
        "\n",
        " 1 or 0 or 0 or 1"
      ]
    },
    {
      "cell_type": "code",
      "execution_count": null,
      "metadata": {
        "colab": {
          "base_uri": "https://localhost:8080/"
        },
        "id": "xGxIEk_KTv-3",
        "outputId": "128cb37b-ad03-4302-aebd-a16eee9fb669"
      },
      "outputs": [
        {
          "output_type": "stream",
          "name": "stdout",
          "text": [
            "OK\n"
          ]
        }
      ],
      "source": [
        "age = 18\n",
        "nationality = \"Pakistani\"\n",
        "\n",
        "if age == 18 and nationality == \"Pakistani\":\n",
        "  print(\"OK\")\n",
        "else:\n",
        "  print(\"NOT OK\")"
      ]
    },
    {
      "cell_type": "code",
      "execution_count": null,
      "metadata": {
        "colab": {
          "base_uri": "https://localhost:8080/"
        },
        "id": "5MgHt1JfT6P4",
        "outputId": "a2214ab1-10dd-4645-bee0-f55627be73e4"
      },
      "outputs": [
        {
          "output_type": "stream",
          "name": "stdout",
          "text": [
            "NOT OK\n"
          ]
        }
      ],
      "source": [
        "age = 19\n",
        "nationality = \"Pakistani\"\n",
        "\n",
        "if age == 18 and nationality == \"Pakistani\":\n",
        "  print(\"OK\")\n",
        "else:\n",
        "  print(\"NOT OK\")"
      ]
    },
    {
      "cell_type": "code",
      "execution_count": null,
      "metadata": {
        "colab": {
          "base_uri": "https://localhost:8080/"
        },
        "id": "SwHAX8TkUgJR",
        "outputId": "a040fa41-55af-4078-aa42-7b7a2e467edb"
      },
      "outputs": [
        {
          "output_type": "stream",
          "name": "stdout",
          "text": [
            "NOT OK\n"
          ]
        }
      ],
      "source": [
        "age = 18\n",
        "nationality = \"Pakistanii\"\n",
        "\n",
        "if age == 18 and nationality == \"Pakistani\":\n",
        "  print(\"OK\")\n",
        "else:\n",
        "  print(\"NOT OK\")"
      ]
    },
    {
      "cell_type": "code",
      "execution_count": null,
      "metadata": {
        "colab": {
          "base_uri": "https://localhost:8080/"
        },
        "id": "h19w5FLbUiJJ",
        "outputId": "a7312bb8-b64b-416a-e046-e766394c9abe"
      },
      "outputs": [
        {
          "output_type": "stream",
          "name": "stdout",
          "text": [
            "OK\n"
          ]
        }
      ],
      "source": [
        "age = 18\n",
        "nationality = \"Pakistani\"\n",
        "\n",
        "if age == 18 or nationality == \"Pakistani\":\n",
        "  print(\"OK\")\n",
        "else:\n",
        "  print(\"NOT OK\")"
      ]
    },
    {
      "cell_type": "code",
      "execution_count": null,
      "metadata": {
        "colab": {
          "base_uri": "https://localhost:8080/"
        },
        "id": "yG7D9YfWUnCx",
        "outputId": "645b010d-9e99-417c-99e9-a6ecb73caad9"
      },
      "outputs": [
        {
          "output_type": "stream",
          "name": "stdout",
          "text": [
            "OK\n"
          ]
        }
      ],
      "source": [
        "age = 19\n",
        "nationality = \"Pakistani\"\n",
        "\n",
        "if age == 18 or nationality == \"Pakistani\":\n",
        "  print(\"OK\")\n",
        "else:\n",
        "  print(\"NOT OK\")"
      ]
    },
    {
      "cell_type": "code",
      "execution_count": null,
      "metadata": {
        "colab": {
          "base_uri": "https://localhost:8080/"
        },
        "id": "FwydH0EVUuhQ",
        "outputId": "7359ec08-c09c-4cbd-c14c-f0c4ca8bfe86"
      },
      "outputs": [
        {
          "output_type": "stream",
          "name": "stdout",
          "text": [
            "10 is greater than 15\n",
            "I am non greater\n"
          ]
        }
      ],
      "source": [
        "i = 10\n",
        "if (i > 5):\n",
        "    print(i, \"is greater than 15\")\n",
        "print(\"I am non greater\")"
      ]
    },
    {
      "cell_type": "code",
      "execution_count": null,
      "metadata": {
        "colab": {
          "base_uri": "https://localhost:8080/"
        },
        "id": "-W6qOwPZFDxC",
        "outputId": "c8a10028-0318-4416-c92b-0fd797d401a0"
      },
      "outputs": [
        {
          "output_type": "stream",
          "name": "stdout",
          "text": [
            "20 is smaller than 15\n",
            "I am in if block\n",
            "i m not in if nor in else block\n"
          ]
        }
      ],
      "source": [
        "i = 20;\n",
        "if (i < 25):\n",
        "  print(i, \"is smaller than 15\")\n",
        "  print(\"I am in if block\")\n",
        "else:\n",
        "  print(i, \"is greater than 15\")\n",
        "  print(\"I am in else block\")\n",
        "print(\"i m not in if nor in else block\")"
      ]
    },
    {
      "cell_type": "code",
      "execution_count": null,
      "metadata": {
        "colab": {
          "base_uri": "https://localhost:8080/"
        },
        "id": "qeOpfwKzKdE-",
        "outputId": "379f9dca-ef43-4663-c42a-7e0d3eb2b492"
      },
      "outputs": [
        {
          "output_type": "stream",
          "name": "stdout",
          "text": [
            "i is 30\n"
          ]
        }
      ],
      "source": [
        "i = 30\n",
        "if (i == 10):\n",
        "  ptint(\"i is 10\")\n",
        "elif (i == 20):\n",
        "  print(\"i  is 20\")\n",
        "elif (i == 30):\n",
        "  print(\"i is 30\")\n",
        "else:\n",
        "  print(\"i is not present\")"
      ]
    },
    {
      "cell_type": "code",
      "execution_count": null,
      "metadata": {
        "id": "nVq0YzjzQObZ"
      },
      "outputs": [],
      "source": [
        "a,b,c = 500,400,200\n",
        "if (a <=250 and b<=200 and c<=100):\n",
        "    print(\"Valuse is:\", a,b,c)"
      ]
    },
    {
      "cell_type": "code",
      "execution_count": null,
      "metadata": {
        "id": "gI6scbsX2l44"
      },
      "outputs": [],
      "source": [
        "YOS = int(input(\"Please enter your year of service in digits: \"))\n",
        "Qual = str(input(\"Please enter your qualification(Bachelors or Masters): \"))\n",
        "if YOS >=10 and Qual == \"Masters\":\n",
        "  print(\"Salary is 150,000\")\n",
        "elif YOS >=10 and Qual == \"Bachelors\":\n",
        "  print(\"Salary is 100,000\")\n",
        "elif YOS < 10 and Qual == \"Masters\":\n",
        "  print(\"Salary is 100,000\")\n",
        "elif YOS < 10 and Qual == \"Bachelors\":\n",
        "  print(\"Salary is 70,000\")\n",
        "else:\n",
        "  print(\"Please try your luck\")"
      ]
    },
    {
      "cell_type": "code",
      "source": [
        "age = int(input(\"Please enter your age:\"))\n",
        "if age < 2:\n",
        "  print(\"This person is a baby\")\n",
        "elif age >= 2 and age < 4:\n",
        "  print(\"This person is a toddler\")\n",
        "elif age >= 4 and age < 13:\n",
        "  print(\"This person is a kid\")\n",
        "elif age >= 13 and age < 20:\n",
        "  print(\"This person is a teenager\")\n",
        "elif age >= 20 and age < 65:\n",
        "  print(\"This person is an adult\")\n",
        "else:\n",
        "  print(\"The person is an elder\")"
      ],
      "metadata": {
        "id": "vtDv4TLncapi",
        "colab": {
          "base_uri": "https://localhost:8080/"
        },
        "outputId": "9f5163af-de0d-4ba1-9d52-61378656fed9"
      },
      "execution_count": 50,
      "outputs": [
        {
          "output_type": "stream",
          "name": "stdout",
          "text": [
            "Please enter your age:33\n",
            "This person is an adult\n"
          ]
        }
      ]
    },
    {
      "cell_type": "code",
      "source": [
        "|Cities = [\"Karachi\", \"Lahore\", \"Islamabd\"]\n",
        "print(Cities[2])"
      ],
      "metadata": {
        "id": "zDAd-KP0rsx_",
        "colab": {
          "base_uri": "https://localhost:8080/"
        },
        "outputId": "a53dfc03-0bff-4d92-b1ba-afabdfc7fb7b"
      },
      "execution_count": 1,
      "outputs": [
        {
          "output_type": "stream",
          "name": "stdout",
          "text": [
            "Islamabd\n"
          ]
        }
      ]
    },
    {
      "cell_type": "code",
      "source": [
        "Cities[2] = \"Houston\"\n",
        "print(Cities)"
      ],
      "metadata": {
        "colab": {
          "base_uri": "https://localhost:8080/"
        },
        "id": "2dU21UnCxmnk",
        "outputId": "3f1af41c-32b4-40ea-cfde-9e8414168ca9"
      },
      "execution_count": 5,
      "outputs": [
        {
          "output_type": "stream",
          "name": "stdout",
          "text": [
            "['Karachi', 'Lahore', 'Houston']\n"
          ]
        }
      ]
    },
    {
      "cell_type": "code",
      "source": [
        "Cities.pop(2)"
      ],
      "metadata": {
        "colab": {
          "base_uri": "https://localhost:8080/",
          "height": 35
        },
        "id": "ica65DPd1GdY",
        "outputId": "1c84670a-f05d-4289-e006-fa97635fa9a7"
      },
      "execution_count": 6,
      "outputs": [
        {
          "output_type": "execute_result",
          "data": {
            "text/plain": [
              "'Houston'"
            ],
            "application/vnd.google.colaboratory.intrinsic+json": {
              "type": "string"
            }
          },
          "metadata": {},
          "execution_count": 6
        }
      ]
    },
    {
      "cell_type": "code",
      "source": [
        "Cities = [\"Karachi\", \"Lahore\", \"Islamabd\"]\n",
        "del Cities[0]\n",
        "print(Cities)"
      ],
      "metadata": {
        "colab": {
          "base_uri": "https://localhost:8080/"
        },
        "id": "35JVLYNn2xAI",
        "outputId": "f85fb1aa-cc69-4138-e370-9ce0d50a24a4"
      },
      "execution_count": 12,
      "outputs": [
        {
          "output_type": "stream",
          "name": "stdout",
          "text": [
            "['Lahore', 'Islamabd']\n"
          ]
        }
      ]
    },
    {
      "cell_type": "code",
      "source": [
        "Cities = [\"Karachi\", \"Lahore\", \"Islamabd\"]\n",
        "Cities.append(\"Peshawar\")\n",
        "print(Cities)"
      ],
      "metadata": {
        "colab": {
          "base_uri": "https://localhost:8080/"
        },
        "id": "1poPgdWo27Vh",
        "outputId": "4d62f379-5479-4de3-e8c5-207ae3d6c49d"
      },
      "execution_count": 13,
      "outputs": [
        {
          "output_type": "stream",
          "name": "stdout",
          "text": [
            "['Karachi', 'Lahore', 'Islamabd', 'Peshawar']\n"
          ]
        }
      ]
    },
    {
      "cell_type": "code",
      "source": [
        "for i in range(10):\n",
        "  print(i)"
      ],
      "metadata": {
        "colab": {
          "base_uri": "https://localhost:8080/"
        },
        "id": "_07HPapH3ZpI",
        "outputId": "f89bb917-9a8b-46e9-bec6-03d50af485b0"
      },
      "execution_count": 15,
      "outputs": [
        {
          "output_type": "stream",
          "name": "stdout",
          "text": [
            "0\n",
            "1\n",
            "2\n",
            "3\n",
            "4\n",
            "5\n",
            "6\n",
            "7\n",
            "8\n",
            "9\n"
          ]
        }
      ]
    },
    {
      "cell_type": "code",
      "source": [
        "for i in range(1,11):\n",
        "  print(\"2 x 0\"+str(i), \"=\", i * 2)\n"
      ],
      "metadata": {
        "colab": {
          "base_uri": "https://localhost:8080/"
        },
        "id": "v5Hz4czk4vpv",
        "outputId": "3948bfc2-6464-4846-a725-1795e42b76a5"
      },
      "execution_count": 22,
      "outputs": [
        {
          "output_type": "stream",
          "name": "stdout",
          "text": [
            "2 x 01 = 2\n",
            "2 x 02 = 4\n",
            "2 x 03 = 6\n",
            "2 x 04 = 8\n",
            "2 x 05 = 10\n",
            "2 x 06 = 12\n",
            "2 x 07 = 14\n",
            "2 x 08 = 16\n",
            "2 x 09 = 18\n",
            "2 x 010 = 20\n"
          ]
        }
      ]
    },
    {
      "cell_type": "code",
      "source": [
        "x = int(input(\"Please enter the number, you want table\"))\n",
        "y = int(input(\"Pleas enter the range you want to print\"))\n",
        "for i in range(1,y+1):\n",
        "  print(x, \" x\", i,\"=\", i*y)\n"
      ],
      "metadata": {
        "colab": {
          "base_uri": "https://localhost:8080/"
        },
        "id": "zJMqko-W6Geu",
        "outputId": "e39f982b-1e27-4fcc-df27-c360575e9d5e"
      },
      "execution_count": 26,
      "outputs": [
        {
          "output_type": "stream",
          "name": "stdout",
          "text": [
            "Please enter the number, you want table20\n",
            "Pleas enter the range you want to print10\n",
            "20  x 1 = 10\n",
            "20  x 2 = 20\n",
            "20  x 3 = 30\n",
            "20  x 4 = 40\n",
            "20  x 5 = 50\n",
            "20  x 6 = 60\n",
            "20  x 7 = 70\n",
            "20  x 8 = 80\n",
            "20  x 9 = 90\n",
            "20  x 10 = 100\n"
          ]
        }
      ]
    },
    {
      "cell_type": "code",
      "source": [
        "all_cities = [\"Karachi\", \"Lahore\", \"Islamabad\"]\n",
        "city = \"Karachi\"\n",
        "for i in all_cities:\n",
        "  if i == city:\n",
        "    print(\"is a clean city\")"
      ],
      "metadata": {
        "colab": {
          "base_uri": "https://localhost:8080/"
        },
        "id": "REmB4Ebu951E",
        "outputId": "d4b864be-0a14-4f64-f647-80b0e9909e4c"
      },
      "execution_count": 29,
      "outputs": [
        {
          "output_type": "stream",
          "name": "stdout",
          "text": [
            "is a clean city\n"
          ]
        }
      ]
    },
    {
      "cell_type": "code",
      "source": [
        "num = 123456789\n",
        "num = str(num)\n",
        "num = num[::-1]\n",
        "print(num)"
      ],
      "metadata": {
        "colab": {
          "base_uri": "https://localhost:8080/"
        },
        "id": "EU1-mSkbBena",
        "outputId": "51ada510-002c-43e9-aa31-130112f5e8c7"
      },
      "execution_count": 30,
      "outputs": [
        {
          "output_type": "stream",
          "name": "stdout",
          "text": [
            "987654321\n"
          ]
        }
      ]
    },
    {
      "cell_type": "code",
      "source": [
        "#num = int(input(\"Please Enter any integer you want to check its Amstrong:\"))\n",
        "num = \"371\"\n",
        "length = len(num)\n",
        "result = 0\n",
        "for i in num:\n",
        "  result = result + int(i) ** length\n",
        "\n",
        "print(result)\n",
        "if result == int(num):\n",
        "  print(\"The number is an Amstrong\")\n",
        "else:\n",
        "  print(\"The number is not an Amstrong\")"
      ],
      "metadata": {
        "colab": {
          "base_uri": "https://localhost:8080/"
        },
        "id": "e3sL8HxbCnI5",
        "outputId": "7f8f7d10-6f54-4fbb-f148-1c4cf482708d"
      },
      "execution_count": 45,
      "outputs": [
        {
          "output_type": "stream",
          "name": "stdout",
          "text": [
            "371\n",
            "The number is an Amstrong\n"
          ]
        }
      ]
    }
  ],
  "metadata": {
    "colab": {
      "provenance": []
    },
    "kernelspec": {
      "display_name": "Python 3",
      "name": "python3"
    },
    "language_info": {
      "name": "python"
    }
  },
  "nbformat": 4,
  "nbformat_minor": 0
}